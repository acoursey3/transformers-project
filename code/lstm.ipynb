{
 "cells": [
  {
   "cell_type": "markdown",
   "id": "3ca0db56",
   "metadata": {},
   "source": [
    "## LSTM Training\n",
    "This notebook sets up a basic LSTM model for use in this project."
   ]
  },
  {
   "cell_type": "code",
   "execution_count": 1,
   "id": "1849bdc1",
   "metadata": {},
   "outputs": [],
   "source": [
    "import torch\n",
    "import torch.nn as nn\n",
    "from torch.utils.data import TensorDataset, DataLoader\n",
    "import matplotlib.pyplot as plt\n",
    "import numpy as np\n",
    "from sklearn.preprocessing import MinMaxScaler\n",
    "from tqdm import tqdm"
   ]
  },
  {
   "cell_type": "code",
   "execution_count": 2,
   "id": "6adcc892",
   "metadata": {},
   "outputs": [
    {
     "data": {
      "text/plain": [
       "device(type='cuda')"
      ]
     },
     "execution_count": 2,
     "metadata": {},
     "output_type": "execute_result"
    }
   ],
   "source": [
    "device = torch.device(\"cuda\" if torch.cuda.is_available() else \"cpu\")\n",
    "device"
   ]
  },
  {
   "cell_type": "markdown",
   "id": "06d90eba",
   "metadata": {},
   "source": [
    "### Toy Problem\n",
    "Setting up a toy time series binary classification problem. Generating a dataloader that contains univariate time series that is either linear or log."
   ]
  },
  {
   "cell_type": "code",
   "execution_count": 3,
   "id": "db3b654b",
   "metadata": {},
   "outputs": [],
   "source": [
    "def generate_data(length):\n",
    "    X_data = []\n",
    "    y_data = []\n",
    "    \n",
    "    for i in range(5000):\n",
    "        eps = np.random.rand(3)\n",
    "        X_data.append(np.linspace(0+(eps[0]/10), 1+(eps[1]/10), length) * eps[2])\n",
    "        y_data.append(1)\n",
    "    \n",
    "    for i in range(5000):\n",
    "        eps = np.random.rand(3)\n",
    "        X_data.append(np.geomspace(0.0000001+(eps[0]/10), 1+(eps[1]/10), length) * eps[2])\n",
    "        y_data.append(0)\n",
    "    \n",
    "    tensor_x = torch.Tensor(X_data).to(device)\n",
    "    tensor_y = torch.Tensor(y_data).to(device)\n",
    "    \n",
    "    return DataLoader(TensorDataset(tensor_x, tensor_y), batch_size=64, shuffle=True)"
   ]
  },
  {
   "cell_type": "code",
   "execution_count": 4,
   "id": "9b56c9d7",
   "metadata": {},
   "outputs": [
    {
     "name": "stderr",
     "output_type": "stream",
     "text": [
      "/tmp/ipykernel_74835/2063342039.py:15: UserWarning: Creating a tensor from a list of numpy.ndarrays is extremely slow. Please consider converting the list to a single numpy.ndarray with numpy.array() before converting to a tensor. (Triggered internally at /opt/conda/conda-bld/pytorch_1670525541990/work/torch/csrc/utils/tensor_new.cpp:230.)\n",
      "  tensor_x = torch.Tensor(X_data).to(device)\n"
     ]
    },
    {
     "data": {
      "text/plain": [
       "[tensor([[0.0779, 0.0799, 0.0819,  ..., 1.0660, 1.0680, 1.0699],\n",
       "         [0.0044, 0.0044, 0.0044,  ..., 0.0611, 0.0614, 0.0617],\n",
       "         [0.0320, 0.0334, 0.0348,  ..., 0.7481, 0.7496, 0.7510],\n",
       "         ...,\n",
       "         [0.0665, 0.0680, 0.0696,  ..., 0.8460, 0.8476, 0.8491],\n",
       "         [0.0492, 0.0504, 0.0516,  ..., 0.6414, 0.6426, 0.6438],\n",
       "         [0.0337, 0.0356, 0.0375,  ..., 0.9753, 0.9772, 0.9791]],\n",
       "        device='cuda:0'),\n",
       " tensor([1., 0., 1., 0., 1., 1., 0., 0., 1., 1., 1., 1., 0., 1., 1., 1., 0., 0.,\n",
       "         1., 1., 1., 1., 0., 1., 0., 1., 1., 0., 0., 0., 1., 0., 1., 1., 0., 1.,\n",
       "         1., 1., 0., 1., 0., 1., 1., 0., 1., 1., 1., 1., 1., 1., 0., 1., 1., 0.,\n",
       "         1., 1., 1., 0., 1., 0., 1., 1., 1., 1.], device='cuda:0')]"
      ]
     },
     "execution_count": 4,
     "metadata": {},
     "output_type": "execute_result"
    }
   ],
   "source": [
    "trainloader = generate_data(500)\n",
    "example = next(iter(trainloader))\n",
    "example"
   ]
  },
  {
   "cell_type": "code",
   "execution_count": 5,
   "id": "45280a75",
   "metadata": {},
   "outputs": [
    {
     "data": {
      "image/png": "[encoded data removed]",
      "text/plain": [
       "<Figure size 640x480 with 1 Axes>"
      ]
     },
     "metadata": {},
     "output_type": "display_data"
    }
   ],
   "source": [
    "plt.title(\"Toy Time series data\")\n",
    "plt.plot(example[0][3].cpu(), label=example[1][3].item())\n",
    "plt.plot(example[0][0].cpu(), label=example[1][0].item())\n",
    "plt.xlabel(\"Time\")\n",
    "plt.legend()\n",
    "plt.show()"
   ]
  },
  {
   "cell_type": "markdown",
   "id": "591bb09f",
   "metadata": {},
   "source": [
    "### Hyperparameter Config"
   ]
  },
  {
   "cell_type": "code",
   "execution_count": 6,
   "id": "622f1c73",
   "metadata": {},
   "outputs": [],
   "source": [
    "config = {\n",
    "    'length': 500,\n",
    "    'hidden_size': 64\n",
    "}"
   ]
  },
  {
   "cell_type": "markdown",
   "id": "c65c2652",
   "metadata": {},
   "source": [
    "### Transformer Model Architecture"
   ]
  },
  {
   "cell_type": "code",
   "execution_count": 7,
   "id": "507ef5ff",
   "metadata": {},
   "outputs": [],
   "source": [
    "class LSTM(nn.Module):\n",
    "    def __init__(self, config):\n",
    "        super().__init__()\n",
    "        self.length = config['length']\n",
    "        self.lstm = nn.LSTM(input_size=1, hidden_size=64, batch_first=True, bidirectional=True)\n",
    "        self.classification_head = nn.Linear(self.length*config['hidden_size']*2, 1)\n",
    "        self.sigmoid = nn.Sigmoid()\n",
    "        \n",
    "    def forward(self, x):\n",
    "        x = self.reshape_batch(x)\n",
    "        z = self.lstm(x)[0]\n",
    "        z = torch.flatten(z, 1)\n",
    "        print(z.shape)\n",
    "        z = self.classification_head(z)\n",
    "        return self.sigmoid(z).squeeze(1)\n",
    "    \n",
    "    def reshape_batch(self, data):\n",
    "        return data.unsqueeze(2)"
   ]
  },
  {
   "cell_type": "code",
   "execution_count": 8,
   "id": "5307b005",
   "metadata": {},
   "outputs": [
    {
     "name": "stdout",
     "output_type": "stream",
     "text": [
      "torch.Size([64, 64000])\n"
     ]
    },
    {
     "data": {
      "text/plain": [
       "tensor([0.4970, 0.4983, 0.4974, 0.4983, 0.4982, 0.4983, 0.4981, 0.4983, 0.4982,\n",
       "        0.4971, 0.4979, 0.4982, 0.4984, 0.4983, 0.4977, 0.4977, 0.4982, 0.4983,\n",
       "        0.4978, 0.4980, 0.4983, 0.4981, 0.4982, 0.4972, 0.4981, 0.4976, 0.4982,\n",
       "        0.4979, 0.4983, 0.4984, 0.4981, 0.4983, 0.4971, 0.4977, 0.4980, 0.4979,\n",
       "        0.4978, 0.4977, 0.4983, 0.4974, 0.4982, 0.4973, 0.4979, 0.4984, 0.4972,\n",
       "        0.4976, 0.4981, 0.4970, 0.4972, 0.4980, 0.4979, 0.4977, 0.4983, 0.4983,\n",
       "        0.4976, 0.4980, 0.4977, 0.4983, 0.4981, 0.4981, 0.4972, 0.4972, 0.4975,\n",
       "        0.4971], device='cuda:0', grad_fn=<SqueezeBackward1>)"
      ]
     },
     "execution_count": 8,
     "metadata": {},
     "output_type": "execute_result"
    }
   ],
   "source": [
    "lstm = LSTM(config).to(device)\n",
    "lstm(example[0])"
   ]
  },
  {
   "cell_type": "markdown",
   "id": "358c2f26",
   "metadata": {},
   "source": [
    "### Training Loop"
   ]
  },
  {
   "cell_type": "code",
   "execution_count": 9,
   "id": "644eaada",
   "metadata": {},
   "outputs": [
    {
     "ename": "RuntimeError",
     "evalue": "cuDNN error: CUDNN_STATUS_NOT_INITIALIZED",
     "output_type": "error",
     "traceback": [
      "\u001b[0;31m---------------------------------------------------------------------------\u001b[0m",
      "\u001b[0;31mRuntimeError\u001b[0m                              Traceback (most recent call last)",
      "Cell \u001b[0;32mIn[9], line 3\u001b[0m\n\u001b[1;32m      1\u001b[0m objective \u001b[39m=\u001b[39m nn\u001b[39m.\u001b[39mBCELoss()\n\u001b[0;32m----> 3\u001b[0m lstm \u001b[39m=\u001b[39m LSTM(config)\u001b[39m.\u001b[39;49mto(device)\n\u001b[1;32m      5\u001b[0m lr \u001b[39m=\u001b[39m \u001b[39m1e-4\u001b[39m\n\u001b[1;32m      6\u001b[0m n_epochs \u001b[39m=\u001b[39m \u001b[39m10\u001b[39m\n",
      "File \u001b[0;32m~/anaconda3/envs/dae/lib/python3.10/site-packages/torch/nn/modules/module.py:989\u001b[0m, in \u001b[0;36mModule.to\u001b[0;34m(self, *args, **kwargs)\u001b[0m\n\u001b[1;32m    985\u001b[0m         \u001b[39mreturn\u001b[39;00m t\u001b[39m.\u001b[39mto(device, dtype \u001b[39mif\u001b[39;00m t\u001b[39m.\u001b[39mis_floating_point() \u001b[39mor\u001b[39;00m t\u001b[39m.\u001b[39mis_complex() \u001b[39melse\u001b[39;00m \u001b[39mNone\u001b[39;00m,\n\u001b[1;32m    986\u001b[0m                     non_blocking, memory_format\u001b[39m=\u001b[39mconvert_to_format)\n\u001b[1;32m    987\u001b[0m     \u001b[39mreturn\u001b[39;00m t\u001b[39m.\u001b[39mto(device, dtype \u001b[39mif\u001b[39;00m t\u001b[39m.\u001b[39mis_floating_point() \u001b[39mor\u001b[39;00m t\u001b[39m.\u001b[39mis_complex() \u001b[39melse\u001b[39;00m \u001b[39mNone\u001b[39;00m, non_blocking)\n\u001b[0;32m--> 989\u001b[0m \u001b[39mreturn\u001b[39;00m \u001b[39mself\u001b[39;49m\u001b[39m.\u001b[39;49m_apply(convert)\n",
      "File \u001b[0;32m~/anaconda3/envs/dae/lib/python3.10/site-packages/torch/nn/modules/module.py:641\u001b[0m, in \u001b[0;36mModule._apply\u001b[0;34m(self, fn)\u001b[0m\n\u001b[1;32m    639\u001b[0m \u001b[39mdef\u001b[39;00m \u001b[39m_apply\u001b[39m(\u001b[39mself\u001b[39m, fn):\n\u001b[1;32m    640\u001b[0m     \u001b[39mfor\u001b[39;00m module \u001b[39min\u001b[39;00m \u001b[39mself\u001b[39m\u001b[39m.\u001b[39mchildren():\n\u001b[0;32m--> 641\u001b[0m         module\u001b[39m.\u001b[39;49m_apply(fn)\n\u001b[1;32m    643\u001b[0m     \u001b[39mdef\u001b[39;00m \u001b[39mcompute_should_use_set_data\u001b[39m(tensor, tensor_applied):\n\u001b[1;32m    644\u001b[0m         \u001b[39mif\u001b[39;00m torch\u001b[39m.\u001b[39m_has_compatible_shallow_copy_type(tensor, tensor_applied):\n\u001b[1;32m    645\u001b[0m             \u001b[39m# If the new tensor has compatible tensor type as the existing tensor,\u001b[39;00m\n\u001b[1;32m    646\u001b[0m             \u001b[39m# the current behavior is to change the tensor in-place using `.data =`,\u001b[39;00m\n\u001b[0;32m   (...)\u001b[0m\n\u001b[1;32m    651\u001b[0m             \u001b[39m# global flag to let the user control whether they want the future\u001b[39;00m\n\u001b[1;32m    652\u001b[0m             \u001b[39m# behavior of overwriting the existing tensor or not.\u001b[39;00m\n",
      "File \u001b[0;32m~/anaconda3/envs/dae/lib/python3.10/site-packages/torch/nn/modules/rnn.py:194\u001b[0m, in \u001b[0;36mRNNBase._apply\u001b[0;34m(self, fn)\u001b[0m\n\u001b[1;32m    192\u001b[0m \u001b[39mself\u001b[39m\u001b[39m.\u001b[39m_flat_weights \u001b[39m=\u001b[39m [(\u001b[39mlambda\u001b[39;00m wn: \u001b[39mgetattr\u001b[39m(\u001b[39mself\u001b[39m, wn) \u001b[39mif\u001b[39;00m \u001b[39mhasattr\u001b[39m(\u001b[39mself\u001b[39m, wn) \u001b[39melse\u001b[39;00m \u001b[39mNone\u001b[39;00m)(wn) \u001b[39mfor\u001b[39;00m wn \u001b[39min\u001b[39;00m \u001b[39mself\u001b[39m\u001b[39m.\u001b[39m_flat_weights_names]\n\u001b[1;32m    193\u001b[0m \u001b[39m# Flattens params (on CUDA)\u001b[39;00m\n\u001b[0;32m--> 194\u001b[0m \u001b[39mself\u001b[39;49m\u001b[39m.\u001b[39;49mflatten_parameters()\n\u001b[1;32m    196\u001b[0m \u001b[39mreturn\u001b[39;00m ret\n",
      "File \u001b[0;32m~/anaconda3/envs/dae/lib/python3.10/site-packages/torch/nn/modules/rnn.py:180\u001b[0m, in \u001b[0;36mRNNBase.flatten_parameters\u001b[0;34m(self)\u001b[0m\n\u001b[1;32m    178\u001b[0m \u001b[39mif\u001b[39;00m \u001b[39mself\u001b[39m\u001b[39m.\u001b[39mproj_size \u001b[39m>\u001b[39m \u001b[39m0\u001b[39m:\n\u001b[1;32m    179\u001b[0m     num_weights \u001b[39m+\u001b[39m\u001b[39m=\u001b[39m \u001b[39m1\u001b[39m\n\u001b[0;32m--> 180\u001b[0m torch\u001b[39m.\u001b[39;49m_cudnn_rnn_flatten_weight(\n\u001b[1;32m    181\u001b[0m     \u001b[39mself\u001b[39;49m\u001b[39m.\u001b[39;49m_flat_weights, num_weights,\n\u001b[1;32m    182\u001b[0m     \u001b[39mself\u001b[39;49m\u001b[39m.\u001b[39;49minput_size, rnn\u001b[39m.\u001b[39;49mget_cudnn_mode(\u001b[39mself\u001b[39;49m\u001b[39m.\u001b[39;49mmode),\n\u001b[1;32m    183\u001b[0m     \u001b[39mself\u001b[39;49m\u001b[39m.\u001b[39;49mhidden_size, \u001b[39mself\u001b[39;49m\u001b[39m.\u001b[39;49mproj_size, \u001b[39mself\u001b[39;49m\u001b[39m.\u001b[39;49mnum_layers,\n\u001b[1;32m    184\u001b[0m     \u001b[39mself\u001b[39;49m\u001b[39m.\u001b[39;49mbatch_first, \u001b[39mbool\u001b[39;49m(\u001b[39mself\u001b[39;49m\u001b[39m.\u001b[39;49mbidirectional))\n",
      "\u001b[0;31mRuntimeError\u001b[0m: cuDNN error: CUDNN_STATUS_NOT_INITIALIZED"
     ]
    }
   ],
   "source": [
    "objective = nn.BCELoss()\n",
    "\n",
    "lstm = LSTM(config).to(device)\n",
    "\n",
    "lr = 1e-4\n",
    "n_epochs = 10\n",
    "optim = torch.optim.Adam(lstm.parameters(), lr=lr)\n",
    "losses = []\n",
    "\n",
    "for n in range(n_epochs):\n",
    "    counter = 0\n",
    "    for i, (X, y) in enumerate(tqdm(trainloader)):\n",
    "        optim.zero_grad()\n",
    "        yhat = lstm(X)\n",
    "        loss = objective(yhat, y)\n",
    "        loss.backward()\n",
    "        losses.append(loss.item())\n",
    "        optim.step()\n",
    "        counter += 1\n",
    "        \n",
    "    print(\"Epoch:\", n+1, \"Loss:\",np.mean(losses[-counter:][0]))"
   ]
  },
  {
   "cell_type": "code",
   "execution_count": 30,
   "id": "3efa883e",
   "metadata": {},
   "outputs": [
    {
     "data": {
      "text/plain": [
       "[<matplotlib.lines.Line2D at 0x7fc3b7360ca0>]"
      ]
     },
     "execution_count": 30,
     "metadata": {},
     "output_type": "execute_result"
    },
    {
     "data": {
      "image/png": "[encoded data removed]",
      "text/plain": [
       "<Figure size 640x480 with 1 Axes>"
      ]
     },
     "metadata": {},
     "output_type": "display_data"
    }
   ],
   "source": [
    "plt.plot(losses)"
   ]
  },
  {
   "cell_type": "markdown",
   "id": "b846ca3b",
   "metadata": {},
   "source": [
    "### Evaluate Training Accuracy"
   ]
  },
  {
   "cell_type": "code",
   "execution_count": 31,
   "id": "f63b1235",
   "metadata": {},
   "outputs": [
    {
     "name": "stderr",
     "output_type": "stream",
     "text": [
      "100%|██████████| 157/157 [00:00<00:00, 619.46it/s]"
     ]
    },
    {
     "name": "stdout",
     "output_type": "stream",
     "text": [
      "Train Accuracy:  0.9962\n"
     ]
    },
    {
     "name": "stderr",
     "output_type": "stream",
     "text": [
      "\n"
     ]
    }
   ],
   "source": [
    "with torch.no_grad():\n",
    "    correct = 0\n",
    "    N = 0\n",
    "    \n",
    "    for i, (X, y) in enumerate(tqdm(trainloader)):\n",
    "        probs = lstm(X)\n",
    "        preds = torch.round(probs)\n",
    "        \n",
    "        correct += (preds == y).sum().item()\n",
    "        N += y.shape[0]\n",
    "        \n",
    "    print(\"Train Accuracy: \", correct/N)"
   ]
  },
  {
   "cell_type": "code",
   "execution_count": null,
   "id": "82cdcd67",
   "metadata": {},
   "outputs": [],
   "source": []
  }
 ],
 "metadata": {
  "kernelspec": {
   "display_name": "Python 3.10.9 ('dae')",
   "language": "python",
   "name": "python3"
  },
  "language_info": {
   "codemirror_mode": {
    "name": "ipython",
    "version": 3
   },
   "file_extension": ".py",
   "mimetype": "text/x-python",
   "name": "python",
   "nbconvert_exporter": "python",
   "pygments_lexer": "ipython3",
   "version": "3.10.9"
  },
  "vscode": {
   "interpreter": {
    "hash": "9c87137ade9f573cc01555d588e6a4dc44ff17ad5bc1b57c7ea0e64a05da73c4"
   }
  }
 },
 "nbformat": 4,
 "nbformat_minor": 5
}
