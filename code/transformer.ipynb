{
  "cells": [
    {
      "cell_type": "markdown",
      "id": "34a2fbd0",
      "metadata": {
        "id": "34a2fbd0"
      },
      "source": [
        "## Transformer Training\n",
        "This notebook sets up a basic Transformer model for use in this project."
      ]
    },
    {
      "cell_type": "code",
      "source": [
        "!pip install optuna"
      ],
      "metadata": {
        "colab": {
          "base_uri": "https://localhost:8080/"
        },
        "id": "BcdL1mhdfOWQ",
        "outputId": "56a3724c-81b3-4fae-c137-5f691e468bea"
      },
      "id": "BcdL1mhdfOWQ",
      "execution_count": null,
      "outputs": [
        {
          "output_type": "stream",
          "name": "stdout",
          "text": [
            "Looking in indexes: https://pypi.org/simple, https://us-python.pkg.dev/colab-wheels/public/simple/\n",
            "Collecting optuna\n",
            "  Downloading optuna-3.1.0-py3-none-any.whl (365 kB)\n",
            "\u001b[2K     \u001b[90m━━━━━━━━━━━━━━━━━━━━━━━━━━━━━━━━━━━━━━\u001b[0m \u001b[32m365.3/365.3 KB\u001b[0m \u001b[31m21.5 MB/s\u001b[0m eta \u001b[36m0:00:00\u001b[0m\n",
            "\u001b[?25hRequirement already satisfied: tqdm in /usr/local/lib/python3.9/dist-packages (from optuna) (4.65.0)\n",
            "Collecting cmaes>=0.9.1\n",
            "  Downloading cmaes-0.9.1-py3-none-any.whl (21 kB)\n",
            "Requirement already satisfied: sqlalchemy>=1.3.0 in /usr/local/lib/python3.9/dist-packages (from optuna) (1.4.47)\n",
            "Collecting colorlog\n",
            "  Downloading colorlog-6.7.0-py2.py3-none-any.whl (11 kB)\n",
            "Requirement already satisfied: PyYAML in /usr/local/lib/python3.9/dist-packages (from optuna) (6.0)\n",
            "Collecting alembic>=1.5.0\n",
            "  Downloading alembic-1.10.2-py3-none-any.whl (212 kB)\n",
            "\u001b[2K     \u001b[90m━━━━━━━━━━━━━━━━━━━━━━━━━━━━━━━━━━━━━━\u001b[0m \u001b[32m212.2/212.2 KB\u001b[0m \u001b[31m26.2 MB/s\u001b[0m eta \u001b[36m0:00:00\u001b[0m\n",
            "\u001b[?25hRequirement already satisfied: numpy in /usr/local/lib/python3.9/dist-packages (from optuna) (1.22.4)\n",
            "Requirement already satisfied: packaging>=20.0 in /usr/local/lib/python3.9/dist-packages (from optuna) (23.0)\n",
            "Collecting Mako\n",
            "  Downloading Mako-1.2.4-py3-none-any.whl (78 kB)\n",
            "\u001b[2K     \u001b[90m━━━━━━━━━━━━━━━━━━━━━━━━━━━━━━━━━━━━━━━━\u001b[0m \u001b[32m78.7/78.7 KB\u001b[0m \u001b[31m10.7 MB/s\u001b[0m eta \u001b[36m0:00:00\u001b[0m\n",
            "\u001b[?25hRequirement already satisfied: typing-extensions>=4 in /usr/local/lib/python3.9/dist-packages (from alembic>=1.5.0->optuna) (4.5.0)\n",
            "Requirement already satisfied: greenlet!=0.4.17 in /usr/local/lib/python3.9/dist-packages (from sqlalchemy>=1.3.0->optuna) (2.0.2)\n",
            "Requirement already satisfied: MarkupSafe>=0.9.2 in /usr/local/lib/python3.9/dist-packages (from Mako->alembic>=1.5.0->optuna) (2.1.2)\n",
            "Installing collected packages: Mako, colorlog, cmaes, alembic, optuna\n",
            "Successfully installed Mako-1.2.4 alembic-1.10.2 cmaes-0.9.1 colorlog-6.7.0 optuna-3.1.0\n"
          ]
        }
      ]
    },
    {
      "cell_type": "code",
      "execution_count": null,
      "id": "38159147",
      "metadata": {
        "id": "38159147"
      },
      "outputs": [],
      "source": [
        "import torch\n",
        "import torch.nn as nn\n",
        "from torch.utils.data import TensorDataset, DataLoader\n",
        "import matplotlib.pyplot as plt\n",
        "import numpy as np\n",
        "from sklearn.preprocessing import MinMaxScaler\n",
        "from tqdm import tqdm\n",
        "import optuna"
      ]
    },
    {
      "cell_type": "code",
      "execution_count": null,
      "id": "71ec856d",
      "metadata": {
        "colab": {
          "base_uri": "https://localhost:8080/"
        },
        "id": "71ec856d",
        "outputId": "690aa634-6f51-4eca-afde-0f647fb6c38b"
      },
      "outputs": [
        {
          "output_type": "execute_result",
          "data": {
            "text/plain": [
              "device(type='cuda')"
            ]
          },
          "metadata": {},
          "execution_count": 4
        }
      ],
      "source": [
        "device = torch.device(\"cuda\" if torch.cuda.is_available() else \"cpu\")\n",
        "device"
      ]
    },
    {
      "cell_type": "markdown",
      "id": "a9c68476",
      "metadata": {
        "id": "a9c68476"
      },
      "source": [
        "### Toy Problem\n",
        "Setting up a toy time series binary classification problem. Generating a dataloader that contains univariate time series that is either linear or log."
      ]
    },
    {
      "cell_type": "code",
      "execution_count": null,
      "id": "6926f850",
      "metadata": {
        "id": "6926f850"
      },
      "outputs": [],
      "source": [
        "def generate_data(length, batch):\n",
        "    X_data = []\n",
        "    y_data = []\n",
        "    \n",
        "    for i in range(5000):\n",
        "        eps = np.random.rand(3)\n",
        "        X_data.append(np.linspace(0+(eps[0]/10), 1+(eps[1]/10), length) * eps[2])\n",
        "        y_data.append(1)\n",
        "    \n",
        "    for i in range(5000):\n",
        "        eps = np.random.rand(3)\n",
        "        X_data.append(np.geomspace(0.0000001+(eps[0]/10), 1+(eps[1]/10), length) * eps[2])\n",
        "        y_data.append(0)\n",
        "    \n",
        "    tensor_x = torch.Tensor(X_data).to(device)\n",
        "    tensor_y = torch.Tensor(y_data).to(device)\n",
        "    \n",
        "    return DataLoader(TensorDataset(tensor_x, tensor_y), batch_size=batch, shuffle=True)"
      ]
    },
    {
      "cell_type": "code",
      "execution_count": null,
      "id": "8d25f2bd",
      "metadata": {
        "colab": {
          "base_uri": "https://localhost:8080/"
        },
        "id": "8d25f2bd",
        "outputId": "ee13285a-7ce3-4374-be71-95055be1d04a"
      },
      "outputs": [
        {
          "output_type": "stream",
          "name": "stderr",
          "text": [
            "<ipython-input-5-822135b653bf>:15: UserWarning: Creating a tensor from a list of numpy.ndarrays is extremely slow. Please consider converting the list to a single numpy.ndarray with numpy.array() before converting to a tensor. (Triggered internally at ../torch/csrc/utils/tensor_new.cpp:245.)\n",
            "  tensor_x = torch.Tensor(X_data).to(device)\n"
          ]
        }
      ],
      "source": [
        "trainloader = generate_data(512, 64)\n",
        "example = next(iter(trainloader))"
      ]
    },
    {
      "cell_type": "code",
      "execution_count": null,
      "id": "a5d49d72",
      "metadata": {
        "colab": {
          "base_uri": "https://localhost:8080/",
          "height": 489
        },
        "id": "a5d49d72",
        "outputId": "4423682f-ad26-4c1f-b2c2-7f21793ecdf5"
      },
      "outputs": [
        {
          "output_type": "execute_result",
          "data": {
            "text/plain": [
              "<matplotlib.legend.Legend at 0x7f730e99d8e0>"
            ]
          },
          "metadata": {},
          "execution_count": 7
        },
        {
          "output_type": "display_data",
          "data": {
            "text/plain": [
              "<Figure size 640x480 with 1 Axes>"
            ],
            "image/png": "[encoded data removed]"
          },
          "metadata": {}
        }
      ],
      "source": [
        "plt.title(\"Toy Time series data\")\n",
        "plt.plot(example[0][3].cpu(), label=example[1][3].item())\n",
        "plt.plot(example[0][0].cpu(), label=example[1][0].item())\n",
        "plt.xlabel(\"Time\")\n",
        "plt.legend()"
      ]
    },
    {
      "cell_type": "markdown",
      "id": "cffa8027",
      "metadata": {
        "id": "cffa8027"
      },
      "source": [
        "### Hyperparameter Config"
      ]
    },
    {
      "cell_type": "code",
      "execution_count": null,
      "id": "d44ba0b3",
      "metadata": {
        "id": "d44ba0b3"
      },
      "outputs": [],
      "source": [
        "config = {\n",
        "    'length': 500,\n",
        "    'hidden_dim': 64,\n",
        "    'nhead': 5,\n",
        "    'attn_layers': 6,\n",
        "    'batch': 64,\n",
        "    'n_epochs': 100,\n",
        "    'lr': 1e-5\n",
        "}"
      ]
    },
    {
      "cell_type": "markdown",
      "id": "aa9c6f74",
      "metadata": {
        "id": "aa9c6f74"
      },
      "source": [
        "### Transformer Model Architecture"
      ]
    },
    {
      "cell_type": "code",
      "execution_count": null,
      "id": "de054a55",
      "metadata": {
        "id": "de054a55"
      },
      "outputs": [],
      "source": [
        "class Transformer(nn.Module):\n",
        "    def __init__(self, config):\n",
        "        super().__init__()\n",
        "        self.length = config['length']\n",
        "        self.positional_embed = nn.Parameter(torch.randn(self.length))\n",
        "        \n",
        "        self.encoder_layer = nn.TransformerEncoderLayer(d_model=self.length, nhead=config['nhead'])\n",
        "        self.transformer_blocks = nn.TransformerEncoder(self.encoder_layer, num_layers=config['attn_layers'])\n",
        "        self.classification_head = nn.Linear(self.length, 1)\n",
        "        self.sigmoid = nn.Sigmoid()\n",
        "        \n",
        "    def forward(self, x):\n",
        "        x = x + self.positional_embed\n",
        "        z = self.transformer_blocks(x)\n",
        "        z = self.classification_head(z)\n",
        "        return self.sigmoid(z.squeeze(1))"
      ]
    },
    {
      "cell_type": "markdown",
      "id": "5056908a",
      "metadata": {
        "id": "5056908a"
      },
      "source": [
        "### Training Loop"
      ]
    },
    {
      "cell_type": "code",
      "execution_count": null,
      "id": "776d3774",
      "metadata": {
        "colab": {
          "base_uri": "https://localhost:8080/"
        },
        "id": "776d3774",
        "outputId": "8ec65e54-b9ea-4566-81b1-2bcafe3f814d"
      },
      "outputs": [
        {
          "output_type": "stream",
          "name": "stderr",
          "text": [
            "100%|██████████| 157/157 [00:13<00:00, 11.94it/s]\n"
          ]
        },
        {
          "output_type": "stream",
          "name": "stdout",
          "text": [
            "Epoch: 1 Loss: 0.7163480520248413\n"
          ]
        },
        {
          "output_type": "stream",
          "name": "stderr",
          "text": [
            "100%|██████████| 157/157 [00:11<00:00, 14.10it/s]\n"
          ]
        },
        {
          "output_type": "stream",
          "name": "stdout",
          "text": [
            "Epoch: 2 Loss: 0.7153804898262024\n"
          ]
        },
        {
          "output_type": "stream",
          "name": "stderr",
          "text": [
            "100%|██████████| 157/157 [00:08<00:00, 18.89it/s]\n"
          ]
        },
        {
          "output_type": "stream",
          "name": "stdout",
          "text": [
            "Epoch: 3 Loss: 0.637732982635498\n"
          ]
        },
        {
          "output_type": "stream",
          "name": "stderr",
          "text": [
            "100%|██████████| 157/157 [00:08<00:00, 17.44it/s]\n"
          ]
        },
        {
          "output_type": "stream",
          "name": "stdout",
          "text": [
            "Epoch: 4 Loss: 0.17315582931041718\n"
          ]
        },
        {
          "output_type": "stream",
          "name": "stderr",
          "text": [
            "100%|██████████| 157/157 [00:08<00:00, 17.46it/s]\n"
          ]
        },
        {
          "output_type": "stream",
          "name": "stdout",
          "text": [
            "Epoch: 5 Loss: 0.15979012846946716\n"
          ]
        },
        {
          "output_type": "stream",
          "name": "stderr",
          "text": [
            "100%|██████████| 157/157 [00:08<00:00, 18.15it/s]\n"
          ]
        },
        {
          "output_type": "stream",
          "name": "stdout",
          "text": [
            "Epoch: 6 Loss: 0.09064722806215286\n"
          ]
        },
        {
          "output_type": "stream",
          "name": "stderr",
          "text": [
            "100%|██████████| 157/157 [00:08<00:00, 17.87it/s]\n"
          ]
        },
        {
          "output_type": "stream",
          "name": "stdout",
          "text": [
            "Epoch: 7 Loss: 0.041866011917591095\n"
          ]
        },
        {
          "output_type": "stream",
          "name": "stderr",
          "text": [
            "100%|██████████| 157/157 [00:09<00:00, 16.85it/s]\n"
          ]
        },
        {
          "output_type": "stream",
          "name": "stdout",
          "text": [
            "Epoch: 8 Loss: 0.02681756764650345\n"
          ]
        },
        {
          "output_type": "stream",
          "name": "stderr",
          "text": [
            "100%|██████████| 157/157 [00:09<00:00, 15.88it/s]\n"
          ]
        },
        {
          "output_type": "stream",
          "name": "stdout",
          "text": [
            "Epoch: 9 Loss: 0.0663861632347107\n"
          ]
        },
        {
          "output_type": "stream",
          "name": "stderr",
          "text": [
            "100%|██████████| 157/157 [00:08<00:00, 18.79it/s]"
          ]
        },
        {
          "output_type": "stream",
          "name": "stdout",
          "text": [
            "Epoch: 10 Loss: 0.10080934315919876\n"
          ]
        },
        {
          "output_type": "stream",
          "name": "stderr",
          "text": [
            "\n"
          ]
        }
      ],
      "source": [
        "objective = nn.BCELoss()\n",
        "\n",
        "tran = Transformer(config).to(device)\n",
        "\n",
        "lr = 1e-5\n",
        "n_epochs = 10\n",
        "optim = torch.optim.Adam(tran.parameters(), lr=lr)\n",
        "losses = []\n",
        "\n",
        "for n in range(n_epochs):\n",
        "    counter = 0\n",
        "    for i, (X, y) in enumerate(tqdm(trainloader)):\n",
        "        optim.zero_grad()\n",
        "        yhat = tran(X)\n",
        "        loss = objective(yhat, y)\n",
        "        loss.backward()\n",
        "        losses.append(loss.item())\n",
        "        optim.step()\n",
        "        counter += 1\n",
        "        \n",
        "    print(\"Epoch:\", n+1, \"Loss:\",np.mean(losses[-counter:][0]))"
      ]
    },
    {
      "cell_type": "code",
      "execution_count": null,
      "id": "c6ed83fd",
      "metadata": {
        "colab": {
          "base_uri": "https://localhost:8080/",
          "height": 447
        },
        "id": "c6ed83fd",
        "outputId": "0d528f5b-a51f-4a9e-9530-aebda4722b1a"
      },
      "outputs": [
        {
          "output_type": "execute_result",
          "data": {
            "text/plain": [
              "[<matplotlib.lines.Line2D at 0x7fc724432ac0>]"
            ]
          },
          "metadata": {},
          "execution_count": 10
        },
        {
          "output_type": "display_data",
          "data": {
            "text/plain": [
              "<Figure size 640x480 with 1 Axes>"
            ],
            "image/png": "[encoded data removed]"
          },
          "metadata": {}
        }
      ],
      "source": [
        "plt.plot(losses)"
      ]
    },
    {
      "cell_type": "markdown",
      "id": "b9fa6f6b",
      "metadata": {
        "id": "b9fa6f6b"
      },
      "source": [
        "### Evaluate Training Accuracy"
      ]
    },
    {
      "cell_type": "code",
      "execution_count": null,
      "id": "8591f428",
      "metadata": {
        "colab": {
          "base_uri": "https://localhost:8080/"
        },
        "id": "8591f428",
        "outputId": "55aa86f1-a189-4a08-f205-e14cac203204"
      },
      "outputs": [
        {
          "output_type": "stream",
          "name": "stderr",
          "text": [
            "100%|██████████| 157/157 [00:03<00:00, 48.65it/s]"
          ]
        },
        {
          "output_type": "stream",
          "name": "stdout",
          "text": [
            "Train Accuracy:  0.9529\n"
          ]
        },
        {
          "output_type": "stream",
          "name": "stderr",
          "text": [
            "\n"
          ]
        }
      ],
      "source": [
        "with torch.no_grad():\n",
        "    correct = 0\n",
        "    N = 0\n",
        "    \n",
        "    for i, (X, y) in enumerate(tqdm(trainloader)):\n",
        "        probs = tran(X)\n",
        "        preds = torch.round(probs)\n",
        "        \n",
        "        correct += (preds == y).sum().item()\n",
        "        N += y.shape[0]\n",
        "        \n",
        "    print(\"Train Accuracy: \", correct/N)"
      ]
    },
    {
      "cell_type": "code",
      "source": [
        "def objective(trial):\n",
        "    hyperparams = {\n",
        "        'length': 512,\n",
        "        'hidden_dim': trial.suggest_categorical('hidden_dim', [64, 256, 512, 1024]),\n",
        "        'nhead': trial.suggest_categorical('nhead', [4, 8]),\n",
        "        'attn_layers': trial.suggest_categorical('attn_layers', [2, 4, 6]),\n",
        "        'batch':  trial.suggest_categorical('batch', [64, 128, 256, 512]),\n",
        "        'n_epochs':  trial.suggest_int('n_epochs', [5, 100]),\n",
        "        'lr': trial.suggest_float('lr', 1e-5, 1e-2, log=True)\n",
        "    }\n",
        "\n",
        "    trainloader = generate_data(hyperparams['length'], hyperparams['batch'])\n",
        "    objective = nn.BCELoss()\n",
        "\n",
        "    tran = Transformer(hyperparams).to(device)\n",
        "    optim = torch.optim.Adam(tran.parameters(), lr=hyperparams['lr'])\n",
        "    losses = []\n",
        "\n",
        "    for n in range(hyperparams['n_epochs']):\n",
        "        counter = 0\n",
        "        for i, (X, y) in enumerate(tqdm(trainloader)):\n",
        "            optim.zero_grad()\n",
        "            yhat = tran(X)\n",
        "            loss = objective(yhat, y)\n",
        "            loss.backward()\n",
        "            losses.append(loss.item())\n",
        "            optim.step()\n",
        "            counter += 1\n",
        "\n",
        "        if n+1 % 5 == 0 or n+1 == hyperparams['n_epochs']:\n",
        "            with torch.no_grad():\n",
        "                correct = 0\n",
        "                N = 0\n",
        "                \n",
        "                for i, (X, y) in enumerate(tqdm(trainloader)): # change to validation loader\n",
        "                    probs = tran(X)\n",
        "                    preds = torch.round(probs)\n",
        "                    \n",
        "                    correct += (preds == y).sum().item()\n",
        "                    N += y.shape[0]\n",
        "                    \n",
        "                accuracy = correct/N\n",
        "                trial.report(accuracy, n)\n",
        "\n",
        "                if trial.should_prune():\n",
        "                    raise optuna.TrialPruned()\n",
        "\n",
        "    return accuracy"
      ],
      "metadata": {
        "id": "5zvdmOo2kPo1"
      },
      "id": "5zvdmOo2kPo1",
      "execution_count": null,
      "outputs": []
    },
    {
      "cell_type": "code",
      "source": [
        "study = optuna.create_study(pruner=optuna.pruners.MedianPruner())\n",
        "study.optimize(objective, n_trials=100)"
      ],
      "metadata": {
        "colab": {
          "base_uri": "https://localhost:8080/",
          "height": 1000
        },
        "id": "QiiQlV7Nm8Ke",
        "outputId": "4887ea75-5e13-4e84-e6e8-bbee84e433c2"
      },
      "id": "QiiQlV7Nm8Ke",
      "execution_count": null,
      "outputs": [
        {
          "output_type": "stream",
          "name": "stderr",
          "text": [
            "\u001b[32m[I 2023-04-04 18:56:31,330]\u001b[0m A new study created in memory with name: no-name-91bce55a-b583-43e6-b848-f1fdf9821d4b\u001b[0m\n",
            "100%|██████████| 157/157 [00:02<00:00, 61.96it/s]\n",
            "100%|██████████| 157/157 [00:03<00:00, 44.95it/s]\n",
            "100%|██████████| 157/157 [00:02<00:00, 59.43it/s]\n",
            "100%|██████████| 157/157 [00:02<00:00, 62.89it/s]\n",
            "100%|██████████| 157/157 [00:02<00:00, 64.16it/s]\n",
            "100%|██████████| 157/157 [00:02<00:00, 53.70it/s]\n",
            "100%|██████████| 157/157 [00:02<00:00, 52.59it/s]\n",
            "100%|██████████| 157/157 [00:02<00:00, 62.66it/s]\n",
            "100%|██████████| 157/157 [00:02<00:00, 61.01it/s]\n",
            "100%|██████████| 157/157 [00:02<00:00, 60.03it/s]\n",
            "100%|██████████| 157/157 [00:03<00:00, 44.74it/s]\n",
            "100%|██████████| 157/157 [00:02<00:00, 55.13it/s]\n",
            "100%|██████████| 157/157 [00:02<00:00, 57.93it/s]\n",
            "100%|██████████| 157/157 [00:02<00:00, 61.10it/s]\n",
            "100%|██████████| 157/157 [00:02<00:00, 53.42it/s]\n",
            "100%|██████████| 157/157 [00:03<00:00, 52.31it/s]\n",
            "100%|██████████| 157/157 [00:02<00:00, 64.96it/s]\n",
            "100%|██████████| 157/157 [00:02<00:00, 64.31it/s]\n",
            "100%|██████████| 157/157 [00:02<00:00, 64.28it/s]\n",
            "100%|██████████| 157/157 [00:02<00:00, 54.19it/s]\n",
            "100%|██████████| 157/157 [00:02<00:00, 55.34it/s]\n",
            "100%|██████████| 157/157 [00:02<00:00, 64.85it/s]\n",
            "100%|██████████| 157/157 [00:02<00:00, 63.95it/s]\n",
            "100%|██████████| 157/157 [00:03<00:00, 48.66it/s]\n",
            "100%|██████████| 157/157 [00:03<00:00, 48.69it/s]\n",
            "100%|██████████| 157/157 [00:02<00:00, 64.05it/s]\n",
            "100%|██████████| 157/157 [00:02<00:00, 63.83it/s]\n",
            "100%|██████████| 157/157 [00:02<00:00, 65.19it/s]\n",
            "100%|██████████| 157/157 [00:02<00:00, 62.86it/s]\n",
            "100%|██████████| 157/157 [00:03<00:00, 49.43it/s]\n",
            "100%|██████████| 157/157 [00:02<00:00, 66.29it/s]\n",
            "100%|██████████| 157/157 [00:02<00:00, 65.70it/s]\n",
            "100%|██████████| 157/157 [00:02<00:00, 64.81it/s]\n",
            "100%|██████████| 157/157 [00:02<00:00, 56.41it/s]\n",
            "100%|██████████| 157/157 [00:03<00:00, 51.72it/s]\n",
            "100%|██████████| 157/157 [00:02<00:00, 65.87it/s]\n",
            "100%|██████████| 157/157 [00:02<00:00, 66.36it/s]\n",
            "100%|██████████| 157/157 [00:02<00:00, 65.10it/s]\n",
            "100%|██████████| 157/157 [00:02<00:00, 58.04it/s]\n",
            "100%|██████████| 157/157 [00:02<00:00, 54.82it/s]\n",
            "100%|██████████| 157/157 [00:02<00:00, 66.07it/s]\n",
            "100%|██████████| 157/157 [00:02<00:00, 67.57it/s]\n",
            "100%|██████████| 157/157 [00:02<00:00, 66.09it/s]\n",
            "100%|██████████| 157/157 [00:02<00:00, 57.37it/s]\n",
            "100%|██████████| 157/157 [00:02<00:00, 55.21it/s]\n",
            "100%|██████████| 157/157 [00:02<00:00, 63.03it/s]\n",
            "100%|██████████| 157/157 [00:02<00:00, 64.29it/s]\n",
            "100%|██████████| 157/157 [00:02<00:00, 65.07it/s]\n",
            "100%|██████████| 157/157 [00:02<00:00, 52.88it/s]\n",
            "100%|██████████| 157/157 [00:02<00:00, 57.61it/s]\n",
            "100%|██████████| 157/157 [00:00<00:00, 161.83it/s]\n",
            "\u001b[32m[I 2023-04-04 18:58:47,674]\u001b[0m Trial 0 finished with value: 0.4999 and parameters: {'hidden_dim': 1024, 'nhead': 8, 'attn_layers': 6, 'batch': 64, 'n_epochs': 50, 'lr': 0.0034555987744336594}. Best is trial 0 with value: 0.4999.\u001b[0m\n",
            "100%|██████████| 40/40 [00:00<00:00, 48.76it/s]\n",
            "100%|██████████| 40/40 [00:00<00:00, 52.18it/s]\n",
            "100%|██████████| 40/40 [00:00<00:00, 51.66it/s]\n",
            "100%|██████████| 40/40 [00:00<00:00, 51.84it/s]\n",
            "100%|██████████| 40/40 [00:00<00:00, 51.59it/s]\n",
            "100%|██████████| 40/40 [00:00<00:00, 52.03it/s]\n",
            "100%|██████████| 40/40 [00:00<00:00, 51.66it/s]\n",
            "100%|██████████| 40/40 [00:00<00:00, 44.44it/s]\n",
            "100%|██████████| 40/40 [00:00<00:00, 42.02it/s]\n",
            " 78%|███████▊  | 31/40 [00:00<00:00, 39.73it/s]\n",
            "\u001b[33m[W 2023-04-04 18:58:57,182]\u001b[0m Trial 1 failed with parameters: {'hidden_dim': 512, 'nhead': 8, 'attn_layers': 6, 'batch': 256, 'n_epochs': 50, 'lr': 0.000683079015419914} because of the following error: KeyboardInterrupt().\u001b[0m\n",
            "Traceback (most recent call last):\n",
            "  File \"/usr/local/lib/python3.9/dist-packages/optuna/study/_optimize.py\", line 200, in _run_trial\n",
            "    value_or_values = func(trial)\n",
            "  File \"<ipython-input-17-f033994821c6>\", line 25, in objective\n",
            "    loss.backward()\n",
            "  File \"/usr/local/lib/python3.9/dist-packages/torch/_tensor.py\", line 487, in backward\n",
            "    torch.autograd.backward(\n",
            "  File \"/usr/local/lib/python3.9/dist-packages/torch/autograd/__init__.py\", line 200, in backward\n",
            "    Variable._execution_engine.run_backward(  # Calls into the C++ engine to run the backward pass\n",
            "KeyboardInterrupt\n",
            "\u001b[33m[W 2023-04-04 18:58:57,184]\u001b[0m Trial 1 failed with value None.\u001b[0m\n"
          ]
        },
        {
          "output_type": "error",
          "ename": "KeyboardInterrupt",
          "evalue": "ignored",
          "traceback": [
            "\u001b[0;31m---------------------------------------------------------------------------\u001b[0m",
            "\u001b[0;31mKeyboardInterrupt\u001b[0m                         Traceback (most recent call last)",
            "\u001b[0;32m<ipython-input-18-580f3d47b94e>\u001b[0m in \u001b[0;36m<cell line: 2>\u001b[0;34m()\u001b[0m\n\u001b[1;32m      1\u001b[0m \u001b[0mstudy\u001b[0m \u001b[0;34m=\u001b[0m \u001b[0moptuna\u001b[0m\u001b[0;34m.\u001b[0m\u001b[0mcreate_study\u001b[0m\u001b[0;34m(\u001b[0m\u001b[0mpruner\u001b[0m\u001b[0;34m=\u001b[0m\u001b[0moptuna\u001b[0m\u001b[0;34m.\u001b[0m\u001b[0mpruners\u001b[0m\u001b[0;34m.\u001b[0m\u001b[0mMedianPruner\u001b[0m\u001b[0;34m(\u001b[0m\u001b[0;34m)\u001b[0m\u001b[0;34m)\u001b[0m\u001b[0;34m\u001b[0m\u001b[0;34m\u001b[0m\u001b[0m\n\u001b[0;32m----> 2\u001b[0;31m \u001b[0mstudy\u001b[0m\u001b[0;34m.\u001b[0m\u001b[0moptimize\u001b[0m\u001b[0;34m(\u001b[0m\u001b[0mobjective\u001b[0m\u001b[0;34m,\u001b[0m \u001b[0mn_trials\u001b[0m\u001b[0;34m=\u001b[0m\u001b[0;36m100\u001b[0m\u001b[0;34m)\u001b[0m\u001b[0;34m\u001b[0m\u001b[0;34m\u001b[0m\u001b[0m\n\u001b[0m",
            "\u001b[0;32m/usr/local/lib/python3.9/dist-packages/optuna/study/study.py\u001b[0m in \u001b[0;36moptimize\u001b[0;34m(self, func, n_trials, timeout, n_jobs, catch, callbacks, gc_after_trial, show_progress_bar)\u001b[0m\n\u001b[1;32m    423\u001b[0m         \"\"\"\n\u001b[1;32m    424\u001b[0m \u001b[0;34m\u001b[0m\u001b[0m\n\u001b[0;32m--> 425\u001b[0;31m         _optimize(\n\u001b[0m\u001b[1;32m    426\u001b[0m             \u001b[0mstudy\u001b[0m\u001b[0;34m=\u001b[0m\u001b[0mself\u001b[0m\u001b[0;34m,\u001b[0m\u001b[0;34m\u001b[0m\u001b[0;34m\u001b[0m\u001b[0m\n\u001b[1;32m    427\u001b[0m             \u001b[0mfunc\u001b[0m\u001b[0;34m=\u001b[0m\u001b[0mfunc\u001b[0m\u001b[0;34m,\u001b[0m\u001b[0;34m\u001b[0m\u001b[0;34m\u001b[0m\u001b[0m\n",
            "\u001b[0;32m/usr/local/lib/python3.9/dist-packages/optuna/study/_optimize.py\u001b[0m in \u001b[0;36m_optimize\u001b[0;34m(study, func, n_trials, timeout, n_jobs, catch, callbacks, gc_after_trial, show_progress_bar)\u001b[0m\n\u001b[1;32m     64\u001b[0m     \u001b[0;32mtry\u001b[0m\u001b[0;34m:\u001b[0m\u001b[0;34m\u001b[0m\u001b[0;34m\u001b[0m\u001b[0m\n\u001b[1;32m     65\u001b[0m         \u001b[0;32mif\u001b[0m \u001b[0mn_jobs\u001b[0m \u001b[0;34m==\u001b[0m \u001b[0;36m1\u001b[0m\u001b[0;34m:\u001b[0m\u001b[0;34m\u001b[0m\u001b[0;34m\u001b[0m\u001b[0m\n\u001b[0;32m---> 66\u001b[0;31m             _optimize_sequential(\n\u001b[0m\u001b[1;32m     67\u001b[0m                 \u001b[0mstudy\u001b[0m\u001b[0;34m,\u001b[0m\u001b[0;34m\u001b[0m\u001b[0;34m\u001b[0m\u001b[0m\n\u001b[1;32m     68\u001b[0m                 \u001b[0mfunc\u001b[0m\u001b[0;34m,\u001b[0m\u001b[0;34m\u001b[0m\u001b[0;34m\u001b[0m\u001b[0m\n",
            "\u001b[0;32m/usr/local/lib/python3.9/dist-packages/optuna/study/_optimize.py\u001b[0m in \u001b[0;36m_optimize_sequential\u001b[0;34m(study, func, n_trials, timeout, catch, callbacks, gc_after_trial, reseed_sampler_rng, time_start, progress_bar)\u001b[0m\n\u001b[1;32m    161\u001b[0m \u001b[0;34m\u001b[0m\u001b[0m\n\u001b[1;32m    162\u001b[0m         \u001b[0;32mtry\u001b[0m\u001b[0;34m:\u001b[0m\u001b[0;34m\u001b[0m\u001b[0;34m\u001b[0m\u001b[0m\n\u001b[0;32m--> 163\u001b[0;31m             \u001b[0mfrozen_trial\u001b[0m \u001b[0;34m=\u001b[0m \u001b[0m_run_trial\u001b[0m\u001b[0;34m(\u001b[0m\u001b[0mstudy\u001b[0m\u001b[0;34m,\u001b[0m \u001b[0mfunc\u001b[0m\u001b[0;34m,\u001b[0m \u001b[0mcatch\u001b[0m\u001b[0;34m)\u001b[0m\u001b[0;34m\u001b[0m\u001b[0;34m\u001b[0m\u001b[0m\n\u001b[0m\u001b[1;32m    164\u001b[0m         \u001b[0;32mfinally\u001b[0m\u001b[0;34m:\u001b[0m\u001b[0;34m\u001b[0m\u001b[0;34m\u001b[0m\u001b[0m\n\u001b[1;32m    165\u001b[0m             \u001b[0;31m# The following line mitigates memory problems that can be occurred in some\u001b[0m\u001b[0;34m\u001b[0m\u001b[0;34m\u001b[0m\u001b[0m\n",
            "\u001b[0;32m/usr/local/lib/python3.9/dist-packages/optuna/study/_optimize.py\u001b[0m in \u001b[0;36m_run_trial\u001b[0;34m(study, func, catch)\u001b[0m\n\u001b[1;32m    249\u001b[0m         \u001b[0;32mand\u001b[0m \u001b[0;32mnot\u001b[0m \u001b[0misinstance\u001b[0m\u001b[0;34m(\u001b[0m\u001b[0mfunc_err\u001b[0m\u001b[0;34m,\u001b[0m \u001b[0mcatch\u001b[0m\u001b[0;34m)\u001b[0m\u001b[0;34m\u001b[0m\u001b[0;34m\u001b[0m\u001b[0m\n\u001b[1;32m    250\u001b[0m     ):\n\u001b[0;32m--> 251\u001b[0;31m         \u001b[0;32mraise\u001b[0m \u001b[0mfunc_err\u001b[0m\u001b[0;34m\u001b[0m\u001b[0;34m\u001b[0m\u001b[0m\n\u001b[0m\u001b[1;32m    252\u001b[0m     \u001b[0;32mreturn\u001b[0m \u001b[0mfrozen_trial\u001b[0m\u001b[0;34m\u001b[0m\u001b[0;34m\u001b[0m\u001b[0m\n\u001b[1;32m    253\u001b[0m \u001b[0;34m\u001b[0m\u001b[0m\n",
            "\u001b[0;32m/usr/local/lib/python3.9/dist-packages/optuna/study/_optimize.py\u001b[0m in \u001b[0;36m_run_trial\u001b[0;34m(study, func, catch)\u001b[0m\n\u001b[1;32m    198\u001b[0m     \u001b[0;32mwith\u001b[0m \u001b[0mget_heartbeat_thread\u001b[0m\u001b[0;34m(\u001b[0m\u001b[0mtrial\u001b[0m\u001b[0;34m.\u001b[0m\u001b[0m_trial_id\u001b[0m\u001b[0;34m,\u001b[0m \u001b[0mstudy\u001b[0m\u001b[0;34m.\u001b[0m\u001b[0m_storage\u001b[0m\u001b[0;34m)\u001b[0m\u001b[0;34m:\u001b[0m\u001b[0;34m\u001b[0m\u001b[0;34m\u001b[0m\u001b[0m\n\u001b[1;32m    199\u001b[0m         \u001b[0;32mtry\u001b[0m\u001b[0;34m:\u001b[0m\u001b[0;34m\u001b[0m\u001b[0;34m\u001b[0m\u001b[0m\n\u001b[0;32m--> 200\u001b[0;31m             \u001b[0mvalue_or_values\u001b[0m \u001b[0;34m=\u001b[0m \u001b[0mfunc\u001b[0m\u001b[0;34m(\u001b[0m\u001b[0mtrial\u001b[0m\u001b[0;34m)\u001b[0m\u001b[0;34m\u001b[0m\u001b[0;34m\u001b[0m\u001b[0m\n\u001b[0m\u001b[1;32m    201\u001b[0m         \u001b[0;32mexcept\u001b[0m \u001b[0mexceptions\u001b[0m\u001b[0;34m.\u001b[0m\u001b[0mTrialPruned\u001b[0m \u001b[0;32mas\u001b[0m \u001b[0me\u001b[0m\u001b[0;34m:\u001b[0m\u001b[0;34m\u001b[0m\u001b[0;34m\u001b[0m\u001b[0m\n\u001b[1;32m    202\u001b[0m             \u001b[0;31m# TODO(mamu): Handle multi-objective cases.\u001b[0m\u001b[0;34m\u001b[0m\u001b[0;34m\u001b[0m\u001b[0m\n",
            "\u001b[0;32m<ipython-input-17-f033994821c6>\u001b[0m in \u001b[0;36mobjective\u001b[0;34m(trial)\u001b[0m\n\u001b[1;32m     23\u001b[0m             \u001b[0myhat\u001b[0m \u001b[0;34m=\u001b[0m \u001b[0mtran\u001b[0m\u001b[0;34m(\u001b[0m\u001b[0mX\u001b[0m\u001b[0;34m)\u001b[0m\u001b[0;34m\u001b[0m\u001b[0;34m\u001b[0m\u001b[0m\n\u001b[1;32m     24\u001b[0m             \u001b[0mloss\u001b[0m \u001b[0;34m=\u001b[0m \u001b[0mobjective\u001b[0m\u001b[0;34m(\u001b[0m\u001b[0myhat\u001b[0m\u001b[0;34m,\u001b[0m \u001b[0my\u001b[0m\u001b[0;34m)\u001b[0m\u001b[0;34m\u001b[0m\u001b[0;34m\u001b[0m\u001b[0m\n\u001b[0;32m---> 25\u001b[0;31m             \u001b[0mloss\u001b[0m\u001b[0;34m.\u001b[0m\u001b[0mbackward\u001b[0m\u001b[0;34m(\u001b[0m\u001b[0;34m)\u001b[0m\u001b[0;34m\u001b[0m\u001b[0;34m\u001b[0m\u001b[0m\n\u001b[0m\u001b[1;32m     26\u001b[0m             \u001b[0mlosses\u001b[0m\u001b[0;34m.\u001b[0m\u001b[0mappend\u001b[0m\u001b[0;34m(\u001b[0m\u001b[0mloss\u001b[0m\u001b[0;34m.\u001b[0m\u001b[0mitem\u001b[0m\u001b[0;34m(\u001b[0m\u001b[0;34m)\u001b[0m\u001b[0;34m)\u001b[0m\u001b[0;34m\u001b[0m\u001b[0;34m\u001b[0m\u001b[0m\n\u001b[1;32m     27\u001b[0m             \u001b[0moptim\u001b[0m\u001b[0;34m.\u001b[0m\u001b[0mstep\u001b[0m\u001b[0;34m(\u001b[0m\u001b[0;34m)\u001b[0m\u001b[0;34m\u001b[0m\u001b[0;34m\u001b[0m\u001b[0m\n",
            "\u001b[0;32m/usr/local/lib/python3.9/dist-packages/torch/_tensor.py\u001b[0m in \u001b[0;36mbackward\u001b[0;34m(self, gradient, retain_graph, create_graph, inputs)\u001b[0m\n\u001b[1;32m    485\u001b[0m                 \u001b[0minputs\u001b[0m\u001b[0;34m=\u001b[0m\u001b[0minputs\u001b[0m\u001b[0;34m,\u001b[0m\u001b[0;34m\u001b[0m\u001b[0;34m\u001b[0m\u001b[0m\n\u001b[1;32m    486\u001b[0m             )\n\u001b[0;32m--> 487\u001b[0;31m         torch.autograd.backward(\n\u001b[0m\u001b[1;32m    488\u001b[0m             \u001b[0mself\u001b[0m\u001b[0;34m,\u001b[0m \u001b[0mgradient\u001b[0m\u001b[0;34m,\u001b[0m \u001b[0mretain_graph\u001b[0m\u001b[0;34m,\u001b[0m \u001b[0mcreate_graph\u001b[0m\u001b[0;34m,\u001b[0m \u001b[0minputs\u001b[0m\u001b[0;34m=\u001b[0m\u001b[0minputs\u001b[0m\u001b[0;34m\u001b[0m\u001b[0;34m\u001b[0m\u001b[0m\n\u001b[1;32m    489\u001b[0m         )\n",
            "\u001b[0;32m/usr/local/lib/python3.9/dist-packages/torch/autograd/__init__.py\u001b[0m in \u001b[0;36mbackward\u001b[0;34m(tensors, grad_tensors, retain_graph, create_graph, grad_variables, inputs)\u001b[0m\n\u001b[1;32m    198\u001b[0m     \u001b[0;31m# some Python versions print out the first line of a multi-line function\u001b[0m\u001b[0;34m\u001b[0m\u001b[0;34m\u001b[0m\u001b[0m\n\u001b[1;32m    199\u001b[0m     \u001b[0;31m# calls in the traceback and some print out the last line\u001b[0m\u001b[0;34m\u001b[0m\u001b[0;34m\u001b[0m\u001b[0m\n\u001b[0;32m--> 200\u001b[0;31m     Variable._execution_engine.run_backward(  # Calls into the C++ engine to run the backward pass\n\u001b[0m\u001b[1;32m    201\u001b[0m         \u001b[0mtensors\u001b[0m\u001b[0;34m,\u001b[0m \u001b[0mgrad_tensors_\u001b[0m\u001b[0;34m,\u001b[0m \u001b[0mretain_graph\u001b[0m\u001b[0;34m,\u001b[0m \u001b[0mcreate_graph\u001b[0m\u001b[0;34m,\u001b[0m \u001b[0minputs\u001b[0m\u001b[0;34m,\u001b[0m\u001b[0;34m\u001b[0m\u001b[0;34m\u001b[0m\u001b[0m\n\u001b[1;32m    202\u001b[0m         allow_unreachable=True, accumulate_grad=True)  # Calls into the C++ engine to run the backward pass\n",
            "\u001b[0;31mKeyboardInterrupt\u001b[0m: "
          ]
        }
      ]
    }
  ],
  "metadata": {
    "kernelspec": {
      "display_name": "Python 3 (ipykernel)",
      "language": "python",
      "name": "python3"
    },
    "language_info": {
      "codemirror_mode": {
        "name": "ipython",
        "version": 3
      },
      "file_extension": ".py",
      "mimetype": "text/x-python",
      "name": "python",
      "nbconvert_exporter": "python",
      "pygments_lexer": "ipython3",
      "version": "3.9.12"
    },
    "colab": {
      "provenance": []
    },
    "accelerator": "GPU",
    "gpuClass": "standard"
  },
  "nbformat": 4,
  "nbformat_minor": 5
}